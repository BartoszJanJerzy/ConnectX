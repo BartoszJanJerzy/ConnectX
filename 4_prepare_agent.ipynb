{
 "cells": [
  {
   "cell_type": "code",
   "execution_count": null,
   "metadata": {},
   "outputs": [],
   "source": [
    "import torch as T\n",
    "import torch.nn as nn\n",
    "import torch.nn.functional as F\n",
    "import torch.optim as optim\n",
    "import numpy as np\n",
    "from typing import Callable\n",
    "import pickle\n",
    "from ipywidgets import IntProgress\n",
    "from IPython.display import display\n",
    "\n",
    "from kaggle_environments import evaluate, make, utils\n",
    "from kaggle_environments.utils import Struct"
   ]
  },
  {
   "cell_type": "markdown",
   "metadata": {},
   "source": [
    "# Save model"
   ]
  },
  {
   "cell_type": "code",
   "execution_count": null,
   "metadata": {},
   "outputs": [],
   "source": [
    "class AgentModel(nn.Module):\n",
    "    \n",
    "    def __init__(self):\n",
    "        super(AgentModel, self).__init__()\n",
    "        self.input_layer = nn.Linear(44, 128)\n",
    "        self.middle_layer = nn.Linear(128, 128) \n",
    "        self.output_layer = nn.Linear(128, 7) \n",
    "        self.optimizer = optim.Adam(self.parameters(), lr=0.003)\n",
    "        self.loss = nn.MSELoss()\n",
    "        self.device = 'cpu'\n",
    "        self.to(self.device)\n",
    "\n",
    "    def load_action(\n",
    "        self,\n",
    "        observation_input: list,\n",
    "        board: list,\n",
    "        rows: int,\n",
    "        cols: int\n",
    "    ) -> int:\n",
    "        state = T.tensor(observation_input, dtype=T.float32).to('cpu')\n",
    "        actions = self.forward(state)\n",
    "\n",
    "        board = np.array(board).reshape(rows, cols).T\n",
    "        base_actions_list: list = actions.tolist()\n",
    "        final_actions_list: list = actions.tolist()      \n",
    "        actions_dict = {k: v for k, v in zip(base_actions_list, range(len(base_actions_list)))}\n",
    "        \n",
    "        for i in range(cols):\n",
    "            if board[i][0]:\n",
    "                final_actions_list.remove(base_actions_list[i])\n",
    "        \n",
    "        if len(final_actions_list):\n",
    "            action = actions_dict[max(final_actions_list)]\n",
    "        else:\n",
    "            action = 0\n",
    "        \n",
    "        return action\n",
    "\n",
    "    def forward(self, state) -> T.tensor:\n",
    "        x = F.relu(self.input_layer(state))\n",
    "        x = F.relu(self.middle_layer(x))\n",
    "        actions = self.output_layer(x)\n",
    "\n",
    "        return actions"
   ]
  },
  {
   "cell_type": "code",
   "execution_count": null,
   "metadata": {},
   "outputs": [],
   "source": [
    "weights_path = './data/punishment_minus_3_weights'\n",
    "model = AgentModel()\n",
    "model.load_state_dict(T.load(weights_path))"
   ]
  },
  {
   "cell_type": "code",
   "execution_count": null,
   "metadata": {},
   "outputs": [],
   "source": [
    "path = './data/model_extra_punishment'\n",
    "\n",
    "with open(path, 'wb') as file:\n",
    "    pickle.dump(model, file, protocol=pickle.HIGHEST_PROTOCOL)"
   ]
  },
  {
   "cell_type": "code",
   "execution_count": null,
   "metadata": {},
   "outputs": [],
   "source": [
    "loaded_model = None\n",
    "\n",
    "with open(path, 'rb') as file:\n",
    "    loaded_model = pickle.load(file)"
   ]
  },
  {
   "cell_type": "markdown",
   "metadata": {},
   "source": [
    "# Save submission function"
   ]
  },
  {
   "cell_type": "code",
   "execution_count": null,
   "metadata": {},
   "outputs": [],
   "source": [
    "def my_agent(observation: Struct, configuration: Struct) -> int:\n",
    "    import pickle\n",
    "    from torch import tensor\n",
    "\n",
    "    path = 'model_extra_punishment'\n",
    "    with open(path, 'rb') as file:\n",
    "        loaded_model = pickle.load(file)\n",
    "\n",
    "    if configuration is None:\n",
    "        rows=6\n",
    "        cols=7\n",
    "    else:\n",
    "        rows = configuration.rows\n",
    "        cols = configuration.cols\n",
    "        \n",
    "    observation_input= observation.board + [observation.step, observation.mark]\n",
    "    action = model.load_action(observation_input, observation.board, rows, cols)\n",
    "\n",
    "    return action"
   ]
  },
  {
   "cell_type": "code",
   "execution_count": null,
   "metadata": {},
   "outputs": [],
   "source": [
    "import inspect\n",
    "import os\n",
    "\n",
    "def write_agent_to_file(function, file):\n",
    "    with open(file, \"a\" if os.path.exists(file) else \"w\") as f:\n",
    "        f.write(inspect.getsource(function))\n",
    "        print(function, \"written to\", file)"
   ]
  },
  {
   "cell_type": "code",
   "execution_count": null,
   "metadata": {},
   "outputs": [],
   "source": [
    "write_agent_to_file(my_agent, \"./kaggle/working/submission.py\")"
   ]
  },
  {
   "cell_type": "markdown",
   "metadata": {},
   "source": [
    "# Validate submission"
   ]
  },
  {
   "cell_type": "code",
   "execution_count": 1,
   "metadata": {},
   "outputs": [
    {
     "ename": "NameError",
     "evalue": "name 'utils' is not defined",
     "output_type": "error",
     "traceback": [
      "\u001b[1;31m---------------------------------------------------------------------------\u001b[0m",
      "\u001b[1;31mNameError\u001b[0m                                 Traceback (most recent call last)",
      "Cell \u001b[1;32mIn [1], line 5\u001b[0m\n\u001b[0;32m      2\u001b[0m \u001b[39mimport\u001b[39;00m \u001b[39msys\u001b[39;00m\n\u001b[0;32m      4\u001b[0m out \u001b[39m=\u001b[39m sys\u001b[39m.\u001b[39mstdout\n\u001b[1;32m----> 5\u001b[0m submission \u001b[39m=\u001b[39m utils\u001b[39m.\u001b[39mread_file(\u001b[39m\"\u001b[39m\u001b[39m./kaggle/working/submission.py\u001b[39m\u001b[39m\"\u001b[39m)\n\u001b[0;32m      6\u001b[0m exec(submission)\n\u001b[0;32m      7\u001b[0m \u001b[39m# agent = utils.get_last_callable(submission)\u001b[39;00m\n",
      "\u001b[1;31mNameError\u001b[0m: name 'utils' is not defined"
     ]
    }
   ],
   "source": [
    "# Note: Stdout replacement is a temporary workaround.\n",
    "import sys\n",
    "\n",
    "out = sys.stdout\n",
    "submission = utils.read_file(\"./kaggle/working/submission.py\")\n",
    "exec(submission)\n",
    "# agent = utils.get_last_callable(submission)\n",
    "sys.stdout = out\n",
    "\n",
    "env = make(\"connectx\", debug=True)\n",
    "env.run([my_agent, 'random'])\n",
    "print(\"Success!\" if env.state[0].status == env.state[1].status == \"DONE\" else \"Failed...\")"
   ]
  },
  {
   "cell_type": "code",
   "execution_count": null,
   "metadata": {},
   "outputs": [],
   "source": [
    "exec(submission)"
   ]
  },
  {
   "cell_type": "code",
   "execution_count": null,
   "metadata": {},
   "outputs": [],
   "source": []
  }
 ],
 "metadata": {
  "kernelspec": {
   "display_name": "Python 3.10.2 ('.env': venv)",
   "language": "python",
   "name": "python3"
  },
  "language_info": {
   "codemirror_mode": {
    "name": "ipython",
    "version": 3
   },
   "file_extension": ".py",
   "mimetype": "text/x-python",
   "name": "python",
   "nbconvert_exporter": "python",
   "pygments_lexer": "ipython3",
   "version": "3.10.2"
  },
  "orig_nbformat": 4,
  "vscode": {
   "interpreter": {
    "hash": "76fe824bd98976dc29cd20b9fe5d36c656768397f3d319104e5428f9aaab9bff"
   }
  }
 },
 "nbformat": 4,
 "nbformat_minor": 2
}
